{
 "metadata": {
  "language_info": {
   "codemirror_mode": {
    "name": "ipython",
    "version": 3
   },
   "file_extension": ".py",
   "mimetype": "text/x-python",
   "name": "python",
   "nbconvert_exporter": "python",
   "pygments_lexer": "ipython3",
   "version": "3.8.3-final"
  },
  "orig_nbformat": 2,
  "kernelspec": {
   "name": "python_defaultSpec_1598079321742",
   "display_name": "Python 3.8.3 64-bit ('base': conda)"
  }
 },
 "nbformat": 4,
 "nbformat_minor": 2,
 "cells": [
  {
   "cell_type": "code",
   "execution_count": 97,
   "metadata": {},
   "outputs": [],
   "source": [
    "import os\n",
    "import json\n",
    "import pandas as pd\n",
    "import helper as hp\n",
    "import random"
   ]
  },
  {
   "cell_type": "code",
   "execution_count": 184,
   "metadata": {},
   "outputs": [],
   "source": [
    "books_f10 = pd.read_excel('./books_f10.xlsx')\n",
    "books_f20 = pd.read_excel('./books_f20.xlsx')\n",
    "books_f30 = pd.read_excel('./books_f30.xlsx')\n",
    "books_f40 = pd.read_excel('./books_f40.xlsx')\n",
    "books_f50 = pd.read_excel('./books_f50.xlsx')\n",
    "books_f10_1 = pd.read_excel('./books_f10_1.xlsx')\n",
    "books_f20_1 = pd.read_excel('./books_f20_1.xlsx')\n",
    "books_f30_1 = pd.read_excel('./books_f30_1.xlsx')\n",
    "books_f40_1 = pd.read_excel('./books_f40_1.xlsx')\n",
    "books_f50_1 = pd.read_excel('./books_f50_1.xlsx')\n",
    "books_m10 = pd.read_excel('./books_m10.xlsx')\n",
    "books_m20 = pd.read_excel('./books_m20.xlsx')\n",
    "books_m30 = pd.read_excel('./books_m30.xlsx')\n",
    "books_m40 = pd.read_excel('./books_m40.xlsx')\n",
    "books_m50 = pd.read_excel('./books_m50.xlsx')\n",
    "books_m10_1 = pd.read_excel('./books_m10_1.xlsx')\n",
    "books_m20_1 = pd.read_excel('./books_m20_1.xlsx')\n",
    "books_m30_1 = pd.read_excel('./books_m30_1.xlsx')\n",
    "books_m40_1 = pd.read_excel('./books_m40_1.xlsx')\n",
    "books_m50_1 = pd.read_excel('./books_m50_1.xlsx')"
   ]
  },
  {
   "cell_type": "code",
   "execution_count": 185,
   "metadata": {},
   "outputs": [],
   "source": [
    "books_f10['ISBN'] = books_f10['ISBN'].astype(str)\n",
    "books_f20['ISBN'] = books_f20['ISBN'].astype(str)\n",
    "books_f30['ISBN'] = books_f30['ISBN'].astype(str)\n",
    "books_f40['ISBN'] = books_f40['ISBN'].astype(str)\n",
    "books_f50['ISBN'] = books_f50['ISBN'].astype(str)\n",
    "books_f10_1['ISBN'] = books_f10_1['ISBN'].astype(str)\n",
    "books_f20_1['ISBN'] = books_f20_1['ISBN'].astype(str)\n",
    "books_f30_1['ISBN'] = books_f30_1['ISBN'].astype(str)\n",
    "books_f40_1['ISBN'] = books_f40_1['ISBN'].astype(str)\n",
    "books_f50_1['ISBN'] = books_f50_1['ISBN'].astype(str)\n",
    "books_m10['ISBN'] = books_m10['ISBN'].astype(str)\n",
    "books_m20['ISBN'] = books_m20['ISBN'].astype(str)\n",
    "books_m30['ISBN'] = books_m30['ISBN'].astype(str)\n",
    "books_m40['ISBN'] = books_m40['ISBN'].astype(str)\n",
    "books_m50['ISBN'] = books_m50['ISBN'].astype(str)\n",
    "books_m10_1['ISBN'] = books_m10_1['ISBN'].astype(str)\n",
    "books_m20_1['ISBN'] = books_m20_1['ISBN'].astype(str)\n",
    "books_m30_1['ISBN'] = books_m30_1['ISBN'].astype(str)\n",
    "books_m40_1['ISBN'] = books_m40_1['ISBN'].astype(str)\n",
    "books_m50_1['ISBN'] = books_m50_1['ISBN'].astype(str)"
   ]
  },
  {
   "cell_type": "code",
   "execution_count": 186,
   "metadata": {},
   "outputs": [],
   "source": [
    "def multiply_isbn(books):\n",
    "    isbn_list = books['ISBN']\n",
    "    cnt_list = books['대출건수']\n",
    "\n",
    "    multi_list = []\n",
    "    for i in range(len(isbn_list)):\n",
    "        val = isbn_list[i]\n",
    "        for j in range(cnt_list[i]):\n",
    "            multi_list.append(val)\n",
    "\n",
    "    return multi_list"
   ]
  },
  {
   "cell_type": "code",
   "execution_count": 187,
   "metadata": {},
   "outputs": [],
   "source": [
    "f10_isbn = multiply_isbn(books_f10)\n",
    "f20_isbn = multiply_isbn(books_f20)\n",
    "f30_isbn = multiply_isbn(books_f30)\n",
    "f40_isbn = multiply_isbn(books_f40)\n",
    "f50_isbn = multiply_isbn(books_f50)\n",
    "f10_1_isbn = multiply_isbn(books_f10_1)\n",
    "f20_1_isbn = multiply_isbn(books_f20_1)\n",
    "f30_1_isbn = multiply_isbn(books_f30_1)\n",
    "f40_1_isbn = multiply_isbn(books_f40_1)\n",
    "f50_1_isbn = multiply_isbn(books_f50_1)\n",
    "m10_isbn = multiply_isbn(books_m10)\n",
    "m20_isbn = multiply_isbn(books_m20)\n",
    "m30_isbn = multiply_isbn(books_m30)\n",
    "m40_isbn = multiply_isbn(books_m40)\n",
    "m50_isbn = multiply_isbn(books_m50)\n",
    "m10_1_isbn = multiply_isbn(books_m10_1)\n",
    "m20_1_isbn = multiply_isbn(books_m20_1)\n",
    "m30_1_isbn = multiply_isbn(books_m30_1)\n",
    "m40_1_isbn = multiply_isbn(books_m40_1)\n",
    "m50_1_isbn = multiply_isbn(books_m50_1)"
   ]
  },
  {
   "cell_type": "code",
   "execution_count": 188,
   "metadata": {},
   "outputs": [],
   "source": [
    "def make_user(group, isbn):\n",
    "    user = pd.DataFrame()\n",
    "    for i in range(100):\n",
    "        user_id = group + '_' + str(i)\n",
    "        random.shuffle(isbn)\n",
    "        books = random.sample(isbn, 46)\n",
    "        books = list(set(books))\n",
    "        user = user.append({'user_id': user_id, 'group': group, 'books': books}, ignore_index=True)\n",
    "    \n",
    "    return user"
   ]
  },
  {
   "cell_type": "code",
   "execution_count": 189,
   "metadata": {},
   "outputs": [],
   "source": [
    "user_f10 = make_user('f10', f10_isbn)\n",
    "user_f20 = make_user('f20', f20_isbn)\n",
    "user_f30 = make_user('f30', f30_isbn)\n",
    "user_f40 = make_user('f40', f40_isbn)\n",
    "user_f50 = make_user('f50', f50_isbn)\n",
    "user_f10_1 = make_user('f10_1', f10_1_isbn)\n",
    "user_f20_1 = make_user('f20_1', f20_1_isbn)\n",
    "user_f30_1 = make_user('f30_1', f30_1_isbn)\n",
    "user_f40_1 = make_user('f40_1', f40_1_isbn)\n",
    "user_f50_1 = make_user('f50_1', f50_1_isbn)\n",
    "user_m10 = make_user('m10', m10_isbn)\n",
    "user_m20 = make_user('m20', m20_isbn)\n",
    "user_m30 = make_user('m30', m30_isbn)\n",
    "user_m40 = make_user('m40', m40_isbn)\n",
    "user_m50 = make_user('m50', m50_isbn)\n",
    "user_m10_1 = make_user('m10_1', m10_1_isbn)\n",
    "user_m20_1 = make_user('m20_1', m20_1_isbn)\n",
    "user_m30_1 = make_user('m30_1', m30_1_isbn)\n",
    "user_m40_1 = make_user('m40_1', m40_1_isbn)\n",
    "user_m50_1 = make_user('m50_1', m50_1_isbn)"
   ]
  },
  {
   "cell_type": "code",
   "execution_count": 190,
   "metadata": {},
   "outputs": [
    {
     "output_type": "execute_result",
     "data": {
      "text/plain": "                                                books  group   user_id\n0   [9788954646079, 9791160802160, 9791157107223, ...    m10     m10_0\n1   [9788954646079, 9788965962830, 9788937460043, ...    m10     m10_1\n2   [9791189799052, 9788983711922, 9791130604190, ...    m10     m10_2\n3   [9788954646079, 9788983711892, 9791161960395, ...    m10     m10_3\n4   [9788994353197, 9788947545150, 9788988907412, ...    m10     m10_4\n..                                                ...    ...       ...\n95  [9788959896127, 9791185392776, 9791187113072, ...  f50_1  f50_1_95\n96  [9788994909073, 9791189856113, 9788959896127, ...  f50_1  f50_1_96\n97  [9791186560464, 9791187580409, 9791189856113, ...  f50_1  f50_1_97\n98  [9788963702926, 9791185392776, 9791157843183, ...  f50_1  f50_1_98\n99  [9791155361429, 9791196630430, 9788926396858, ...  f50_1  f50_1_99\n\n[2000 rows x 3 columns]",
      "text/html": "<div>\n<style scoped>\n    .dataframe tbody tr th:only-of-type {\n        vertical-align: middle;\n    }\n\n    .dataframe tbody tr th {\n        vertical-align: top;\n    }\n\n    .dataframe thead th {\n        text-align: right;\n    }\n</style>\n<table border=\"1\" class=\"dataframe\">\n  <thead>\n    <tr style=\"text-align: right;\">\n      <th></th>\n      <th>books</th>\n      <th>group</th>\n      <th>user_id</th>\n    </tr>\n  </thead>\n  <tbody>\n    <tr>\n      <th>0</th>\n      <td>[9788954646079, 9791160802160, 9791157107223, ...</td>\n      <td>m10</td>\n      <td>m10_0</td>\n    </tr>\n    <tr>\n      <th>1</th>\n      <td>[9788954646079, 9788965962830, 9788937460043, ...</td>\n      <td>m10</td>\n      <td>m10_1</td>\n    </tr>\n    <tr>\n      <th>2</th>\n      <td>[9791189799052, 9788983711922, 9791130604190, ...</td>\n      <td>m10</td>\n      <td>m10_2</td>\n    </tr>\n    <tr>\n      <th>3</th>\n      <td>[9788954646079, 9788983711892, 9791161960395, ...</td>\n      <td>m10</td>\n      <td>m10_3</td>\n    </tr>\n    <tr>\n      <th>4</th>\n      <td>[9788994353197, 9788947545150, 9788988907412, ...</td>\n      <td>m10</td>\n      <td>m10_4</td>\n    </tr>\n    <tr>\n      <th>...</th>\n      <td>...</td>\n      <td>...</td>\n      <td>...</td>\n    </tr>\n    <tr>\n      <th>95</th>\n      <td>[9788959896127, 9791185392776, 9791187113072, ...</td>\n      <td>f50_1</td>\n      <td>f50_1_95</td>\n    </tr>\n    <tr>\n      <th>96</th>\n      <td>[9788994909073, 9791189856113, 9788959896127, ...</td>\n      <td>f50_1</td>\n      <td>f50_1_96</td>\n    </tr>\n    <tr>\n      <th>97</th>\n      <td>[9791186560464, 9791187580409, 9791189856113, ...</td>\n      <td>f50_1</td>\n      <td>f50_1_97</td>\n    </tr>\n    <tr>\n      <th>98</th>\n      <td>[9788963702926, 9791185392776, 9791157843183, ...</td>\n      <td>f50_1</td>\n      <td>f50_1_98</td>\n    </tr>\n    <tr>\n      <th>99</th>\n      <td>[9791155361429, 9791196630430, 9788926396858, ...</td>\n      <td>f50_1</td>\n      <td>f50_1_99</td>\n    </tr>\n  </tbody>\n</table>\n<p>2000 rows × 3 columns</p>\n</div>"
     },
     "metadata": {},
     "execution_count": 190
    }
   ],
   "source": [
    "users = pd.concat([user_m10, user_m20, user_m30, user_m40, user_m50, user_m10_1, user_m20_1, user_m30_1, user_m40_1, user_m50_1, user_f10, user_f20, user_f30, user_f40, user_f50, user_f10_1, user_f20_1, user_f30_1, user_f40_1, user_f50_1])"
   ]
  },
  {
   "cell_type": "code",
   "execution_count": 238,
   "metadata": {},
   "outputs": [
    {
     "output_type": "execute_result",
     "data": {
      "text/plain": "      index                                              books  group  \\\n0         0  [9788958203919, 9791160802160, 9788937473135, ...    m10   \n1         1  [9788954646079, 9788965962830, 9788937460043, ...    m10   \n2         2  [9791189799052, 9788983711922, 9791130604190, ...    m10   \n3         3  [9788954646079, 9788983711892, 9791161960395, ...    m10   \n4         4  [9788901165813, 9788933870693, 9788994353197, ...    m10   \n...     ...                                                ...    ...   \n1995     95  [9791190179232, 9788984058392, 9788994120997, ...  f50_1   \n1996     96  [9788994909073, 9791189856113, 9788959896127, ...  f50_1   \n1997     97  [9791186560464, 9791187580409, 9791189856113, ...  f50_1   \n1998     98  [9788963702926, 9791185392776, 9791157843183, ...  f50_1   \n1999     99  [9791190238182, 9791155360507, 9788996991342, ...  f50_1   \n\n       user_id  \n0        m10_0  \n1        m10_1  \n2        m10_2  \n3        m10_3  \n4        m10_4  \n...        ...  \n1995  f50_1_95  \n1996  f50_1_96  \n1997  f50_1_97  \n1998  f50_1_98  \n1999  f50_1_99  \n\n[2000 rows x 4 columns]",
      "text/html": "<div>\n<style scoped>\n    .dataframe tbody tr th:only-of-type {\n        vertical-align: middle;\n    }\n\n    .dataframe tbody tr th {\n        vertical-align: top;\n    }\n\n    .dataframe thead th {\n        text-align: right;\n    }\n</style>\n<table border=\"1\" class=\"dataframe\">\n  <thead>\n    <tr style=\"text-align: right;\">\n      <th></th>\n      <th>index</th>\n      <th>books</th>\n      <th>group</th>\n      <th>user_id</th>\n    </tr>\n  </thead>\n  <tbody>\n    <tr>\n      <th>0</th>\n      <td>0</td>\n      <td>[9788958203919, 9791160802160, 9788937473135, ...</td>\n      <td>m10</td>\n      <td>m10_0</td>\n    </tr>\n    <tr>\n      <th>1</th>\n      <td>1</td>\n      <td>[9788954646079, 9788965962830, 9788937460043, ...</td>\n      <td>m10</td>\n      <td>m10_1</td>\n    </tr>\n    <tr>\n      <th>2</th>\n      <td>2</td>\n      <td>[9791189799052, 9788983711922, 9791130604190, ...</td>\n      <td>m10</td>\n      <td>m10_2</td>\n    </tr>\n    <tr>\n      <th>3</th>\n      <td>3</td>\n      <td>[9788954646079, 9788983711892, 9791161960395, ...</td>\n      <td>m10</td>\n      <td>m10_3</td>\n    </tr>\n    <tr>\n      <th>4</th>\n      <td>4</td>\n      <td>[9788901165813, 9788933870693, 9788994353197, ...</td>\n      <td>m10</td>\n      <td>m10_4</td>\n    </tr>\n    <tr>\n      <th>...</th>\n      <td>...</td>\n      <td>...</td>\n      <td>...</td>\n      <td>...</td>\n    </tr>\n    <tr>\n      <th>1995</th>\n      <td>95</td>\n      <td>[9791190179232, 9788984058392, 9788994120997, ...</td>\n      <td>f50_1</td>\n      <td>f50_1_95</td>\n    </tr>\n    <tr>\n      <th>1996</th>\n      <td>96</td>\n      <td>[9788994909073, 9791189856113, 9788959896127, ...</td>\n      <td>f50_1</td>\n      <td>f50_1_96</td>\n    </tr>\n    <tr>\n      <th>1997</th>\n      <td>97</td>\n      <td>[9791186560464, 9791187580409, 9791189856113, ...</td>\n      <td>f50_1</td>\n      <td>f50_1_97</td>\n    </tr>\n    <tr>\n      <th>1998</th>\n      <td>98</td>\n      <td>[9788963702926, 9791185392776, 9791157843183, ...</td>\n      <td>f50_1</td>\n      <td>f50_1_98</td>\n    </tr>\n    <tr>\n      <th>1999</th>\n      <td>99</td>\n      <td>[9791190238182, 9791155360507, 9788996991342, ...</td>\n      <td>f50_1</td>\n      <td>f50_1_99</td>\n    </tr>\n  </tbody>\n</table>\n<p>2000 rows × 4 columns</p>\n</div>"
     },
     "metadata": {},
     "execution_count": 238
    }
   ],
   "source": [
    "users = users.reset_index()"
   ]
  },
  {
   "cell_type": "code",
   "execution_count": 239,
   "metadata": {},
   "outputs": [],
   "source": [
    "users.to_json(\"./users.json\", orient='records')"
   ]
  },
  {
   "cell_type": "code",
   "execution_count": 192,
   "metadata": {
    "tags": []
   },
   "outputs": [],
   "source": [
    "valid = users.sample(n=600, random_state=1234)\n",
    "vaild = valid.reset_index()"
   ]
  },
  {
   "cell_type": "code",
   "execution_count": 193,
   "metadata": {},
   "outputs": [],
   "source": [
    "valid = valid.reset_index()"
   ]
  },
  {
   "cell_type": "code",
   "execution_count": 194,
   "metadata": {},
   "outputs": [],
   "source": [
    "train = users[users['user_id'].isin(valid['user_id']) == False]"
   ]
  },
  {
   "cell_type": "code",
   "execution_count": 195,
   "metadata": {},
   "outputs": [],
   "source": [
    "train = train.reset_index()"
   ]
  },
  {
   "cell_type": "code",
   "execution_count": 196,
   "metadata": {},
   "outputs": [],
   "source": [
    "train.to_json(\"./train.json\", orient='records')\n",
    "valid.to_json(\"./valid.json\", orient='records')"
   ]
  },
  {
   "cell_type": "code",
   "execution_count": 197,
   "metadata": {},
   "outputs": [],
   "source": [
    "question = pd.DataFrame()\n",
    "answer = pd.DataFrame()\n",
    "for i in range(len(valid)):\n",
    "    user = valid.iloc[i]\n",
    "    books = user['books']\n",
    "    random.shuffle(books)\n",
    "    ans_books = random.sample(books, 20)\n",
    "    qst_books = []\n",
    "    for val in books:\n",
    "        if val not in ans_books:\n",
    "            qst_books.append(val)\n",
    "    \n",
    "    question = question.append({'user_id': user['user_id'], 'group': user['group'], 'books': qst_books}, ignore_index=True) \n",
    "    answer = answer.append({'user_id': user['user_id'], 'group': user['group'], 'books': ans_books}, ignore_index=True)"
   ]
  },
  {
   "cell_type": "code",
   "execution_count": 198,
   "metadata": {},
   "outputs": [],
   "source": [
    "question.to_json(\"./question.json\", orient='records')\n",
    "answer.to_json(\"./answer.json\", orient='records')"
   ]
  },
  {
   "cell_type": "code",
   "execution_count": 252,
   "metadata": {},
   "outputs": [
    {
     "output_type": "execute_result",
     "data": {
      "text/plain": "               ISBN  ISBN부가기호      KDC  \\\n0     9788995151204      3810  813.600   \n1     9788932471631      3470  491.510   \n2     9791160560510      3400  404.000   \n3     9788972756194      3830  833.600   \n4     9788998274795      3830  833.600   \n...             ...       ...      ...   \n3995  9791155360743     13590  595.400   \n3996  9791155361238     13590  325.211   \n3997  9791155361283     13590  595.400   \n3998  9791155811344     13590  590.400   \n3999  9791160504255     13320  327.870   \n\n                                                     서명  \\\n0                                난장이가 쏘아올린 작은 공:조세희 소설집   \n1                               이기적 유전자 :진화론의 새로운 패러다임    \n2                                               열두 발자국    \n3                           나미야 잡화점의 기적 :히가시노 게이고 장편소설    \n4                            돌이킬 수 없는 약속 :야쿠마루 가쿠 장편소설    \n...                                                 ...   \n3995                                      라이프 인테리어 교과서    \n3996   나는 오늘 책상을 정리하기로 했다 :일이 편해지고 시간도 버는 88가지 정리 아이디어    \n3997                            (돈과 시간이 쌓이는) 1일 1분 정리법    \n3998                           와비사비 라이프 :없는 대로 잘 살아갑니다    \n3999  부자가 되려면 부자를 만나라 =진짜 부자들이 알려주지 않는 투자의 비법 /If yo...   \n\n                            저자               출판사  출판년도   권  \n0                          조세희             이성과 힘  2000 NaN  \n1           리처드 도킨스 지음 ;이상임 옮김             을유문화사  2010 NaN  \n2                     지은이: 정재승              어크로스  2018 NaN  \n3      지은이: 히가시노 게이고 ;옮긴이: 양윤옥              현대문학  2012 NaN  \n4        저자: 야쿠마루 가쿠 ;옮긴이: 김성미  Book plaza(북플라자)  2017 NaN  \n...                        ...               ...   ...  ..  \n3995  지은이: 주부의벗사 편집부 ;옮긴이: 박승희             즐거운상상  2018 NaN  \n3996       지은이: Emi ;옮긴이: 남궁가윤             즐거운상상  2018 NaN  \n3997    지은이: 고마츠 야스시 ;옮긴이: 박승희             즐거운상상  2019 NaN  \n3998     줄리 포인터 애덤스 지음 ;박여진 옮김                윌북  2017 NaN  \n3999                    고준석 지음                길벗  2018 NaN  \n\n[4000 rows x 8 columns]",
      "text/html": "<div>\n<style scoped>\n    .dataframe tbody tr th:only-of-type {\n        vertical-align: middle;\n    }\n\n    .dataframe tbody tr th {\n        vertical-align: top;\n    }\n\n    .dataframe thead th {\n        text-align: right;\n    }\n</style>\n<table border=\"1\" class=\"dataframe\">\n  <thead>\n    <tr style=\"text-align: right;\">\n      <th></th>\n      <th>ISBN</th>\n      <th>ISBN부가기호</th>\n      <th>KDC</th>\n      <th>서명</th>\n      <th>저자</th>\n      <th>출판사</th>\n      <th>출판년도</th>\n      <th>권</th>\n    </tr>\n  </thead>\n  <tbody>\n    <tr>\n      <th>0</th>\n      <td>9788995151204</td>\n      <td>3810</td>\n      <td>813.600</td>\n      <td>난장이가 쏘아올린 작은 공:조세희 소설집</td>\n      <td>조세희</td>\n      <td>이성과 힘</td>\n      <td>2000</td>\n      <td>NaN</td>\n    </tr>\n    <tr>\n      <th>1</th>\n      <td>9788932471631</td>\n      <td>3470</td>\n      <td>491.510</td>\n      <td>이기적 유전자 :진화론의 새로운 패러다임</td>\n      <td>리처드 도킨스 지음 ;이상임 옮김</td>\n      <td>을유문화사</td>\n      <td>2010</td>\n      <td>NaN</td>\n    </tr>\n    <tr>\n      <th>2</th>\n      <td>9791160560510</td>\n      <td>3400</td>\n      <td>404.000</td>\n      <td>열두 발자국</td>\n      <td>지은이: 정재승</td>\n      <td>어크로스</td>\n      <td>2018</td>\n      <td>NaN</td>\n    </tr>\n    <tr>\n      <th>3</th>\n      <td>9788972756194</td>\n      <td>3830</td>\n      <td>833.600</td>\n      <td>나미야 잡화점의 기적 :히가시노 게이고 장편소설</td>\n      <td>지은이: 히가시노 게이고 ;옮긴이: 양윤옥</td>\n      <td>현대문학</td>\n      <td>2012</td>\n      <td>NaN</td>\n    </tr>\n    <tr>\n      <th>4</th>\n      <td>9788998274795</td>\n      <td>3830</td>\n      <td>833.600</td>\n      <td>돌이킬 수 없는 약속 :야쿠마루 가쿠 장편소설</td>\n      <td>저자: 야쿠마루 가쿠 ;옮긴이: 김성미</td>\n      <td>Book plaza(북플라자)</td>\n      <td>2017</td>\n      <td>NaN</td>\n    </tr>\n    <tr>\n      <th>...</th>\n      <td>...</td>\n      <td>...</td>\n      <td>...</td>\n      <td>...</td>\n      <td>...</td>\n      <td>...</td>\n      <td>...</td>\n      <td>...</td>\n    </tr>\n    <tr>\n      <th>3995</th>\n      <td>9791155360743</td>\n      <td>13590</td>\n      <td>595.400</td>\n      <td>라이프 인테리어 교과서</td>\n      <td>지은이: 주부의벗사 편집부 ;옮긴이: 박승희</td>\n      <td>즐거운상상</td>\n      <td>2018</td>\n      <td>NaN</td>\n    </tr>\n    <tr>\n      <th>3996</th>\n      <td>9791155361238</td>\n      <td>13590</td>\n      <td>325.211</td>\n      <td>나는 오늘 책상을 정리하기로 했다 :일이 편해지고 시간도 버는 88가지 정리 아이디어</td>\n      <td>지은이: Emi ;옮긴이: 남궁가윤</td>\n      <td>즐거운상상</td>\n      <td>2018</td>\n      <td>NaN</td>\n    </tr>\n    <tr>\n      <th>3997</th>\n      <td>9791155361283</td>\n      <td>13590</td>\n      <td>595.400</td>\n      <td>(돈과 시간이 쌓이는) 1일 1분 정리법</td>\n      <td>지은이: 고마츠 야스시 ;옮긴이: 박승희</td>\n      <td>즐거운상상</td>\n      <td>2019</td>\n      <td>NaN</td>\n    </tr>\n    <tr>\n      <th>3998</th>\n      <td>9791155811344</td>\n      <td>13590</td>\n      <td>590.400</td>\n      <td>와비사비 라이프 :없는 대로 잘 살아갑니다</td>\n      <td>줄리 포인터 애덤스 지음 ;박여진 옮김</td>\n      <td>윌북</td>\n      <td>2017</td>\n      <td>NaN</td>\n    </tr>\n    <tr>\n      <th>3999</th>\n      <td>9791160504255</td>\n      <td>13320</td>\n      <td>327.870</td>\n      <td>부자가 되려면 부자를 만나라 =진짜 부자들이 알려주지 않는 투자의 비법 /If yo...</td>\n      <td>고준석 지음</td>\n      <td>길벗</td>\n      <td>2018</td>\n      <td>NaN</td>\n    </tr>\n  </tbody>\n</table>\n<p>4000 rows × 8 columns</p>\n</div>"
     },
     "metadata": {},
     "execution_count": 252
    }
   ],
   "source": [
    "books = pd.concat([books_m10, books_m20, books_m30, books_m40, books_m50, books_m10_1, books_m20_1, books_m30_1, books_m40_1, books_m50_1, books_f10, books_f20, books_f30, books_f40, books_f50, books_f10_1, books_f20_1, books_f30_1, books_f40_1, books_f50_1])\n",
    "books = books.reset_index()\n",
    "books = books[['ISBN', 'ISBN부가기호', 'KDC', '서명', '저자', '출판사', '출판년도', '권']]"
   ]
  },
  {
   "cell_type": "code",
   "execution_count": 262,
   "metadata": {},
   "outputs": [
    {
     "output_type": "execute_result",
     "data": {
      "text/plain": "               ISBN  ISBN부가기호      KDC  \\\n0     9788995151204      3810  813.600   \n1     9788932471631      3470  491.510   \n2     9791160560510      3400  404.000   \n3     9788972756194      3830  833.600   \n4     9788998274795      3830  833.600   \n...             ...       ...      ...   \n3993  9788998075668     13510  517.520   \n3995  9791155360743     13590  595.400   \n3996  9791155361238     13590  325.211   \n3998  9791155811344     13590  590.400   \n3999  9791160504255     13320  327.870   \n\n                                                     서명  \\\n0                                난장이가 쏘아올린 작은 공:조세희 소설집   \n1                               이기적 유전자 :진화론의 새로운 패러다임    \n2                                               열두 발자국    \n3                           나미야 잡화점의 기적 :히가시노 게이고 장편소설    \n4                            돌이킬 수 없는 약속 :야쿠마루 가쿠 장편소설    \n...                                                 ...   \n3993                              케토 다이어트 :지방을 태우는 식사법    \n3995                                      라이프 인테리어 교과서    \n3996   나는 오늘 책상을 정리하기로 했다 :일이 편해지고 시간도 버는 88가지 정리 아이디어    \n3998                           와비사비 라이프 :없는 대로 잘 살아갑니다    \n3999  부자가 되려면 부자를 만나라 =진짜 부자들이 알려주지 않는 투자의 비법 /If yo...   \n\n                            저자               출판사  출판년도   권  \n0                          조세희             이성과 힘  2000 NaN  \n1           리처드 도킨스 지음 ;이상임 옮김             을유문화사  2010 NaN  \n2                     지은이: 정재승              어크로스  2018 NaN  \n3      지은이: 히가시노 게이고 ;옮긴이: 양윤옥              현대문학  2012 NaN  \n4        저자: 야쿠마루 가쿠 ;옮긴이: 김성미  Book plaza(북플라자)  2017 NaN  \n...                        ...               ...   ...  ..  \n3993          리앤 보겔 지음 ;이문영 옮김            라이팅하우스  2019 NaN  \n3995  지은이: 주부의벗사 편집부 ;옮긴이: 박승희             즐거운상상  2018 NaN  \n3996       지은이: Emi ;옮긴이: 남궁가윤             즐거운상상  2018 NaN  \n3998     줄리 포인터 애덤스 지음 ;박여진 옮김                윌북  2017 NaN  \n3999                    고준석 지음                길벗  2018 NaN  \n\n[1699 rows x 8 columns]",
      "text/html": "<div>\n<style scoped>\n    .dataframe tbody tr th:only-of-type {\n        vertical-align: middle;\n    }\n\n    .dataframe tbody tr th {\n        vertical-align: top;\n    }\n\n    .dataframe thead th {\n        text-align: right;\n    }\n</style>\n<table border=\"1\" class=\"dataframe\">\n  <thead>\n    <tr style=\"text-align: right;\">\n      <th></th>\n      <th>ISBN</th>\n      <th>ISBN부가기호</th>\n      <th>KDC</th>\n      <th>서명</th>\n      <th>저자</th>\n      <th>출판사</th>\n      <th>출판년도</th>\n      <th>권</th>\n    </tr>\n  </thead>\n  <tbody>\n    <tr>\n      <th>0</th>\n      <td>9788995151204</td>\n      <td>3810</td>\n      <td>813.600</td>\n      <td>난장이가 쏘아올린 작은 공:조세희 소설집</td>\n      <td>조세희</td>\n      <td>이성과 힘</td>\n      <td>2000</td>\n      <td>NaN</td>\n    </tr>\n    <tr>\n      <th>1</th>\n      <td>9788932471631</td>\n      <td>3470</td>\n      <td>491.510</td>\n      <td>이기적 유전자 :진화론의 새로운 패러다임</td>\n      <td>리처드 도킨스 지음 ;이상임 옮김</td>\n      <td>을유문화사</td>\n      <td>2010</td>\n      <td>NaN</td>\n    </tr>\n    <tr>\n      <th>2</th>\n      <td>9791160560510</td>\n      <td>3400</td>\n      <td>404.000</td>\n      <td>열두 발자국</td>\n      <td>지은이: 정재승</td>\n      <td>어크로스</td>\n      <td>2018</td>\n      <td>NaN</td>\n    </tr>\n    <tr>\n      <th>3</th>\n      <td>9788972756194</td>\n      <td>3830</td>\n      <td>833.600</td>\n      <td>나미야 잡화점의 기적 :히가시노 게이고 장편소설</td>\n      <td>지은이: 히가시노 게이고 ;옮긴이: 양윤옥</td>\n      <td>현대문학</td>\n      <td>2012</td>\n      <td>NaN</td>\n    </tr>\n    <tr>\n      <th>4</th>\n      <td>9788998274795</td>\n      <td>3830</td>\n      <td>833.600</td>\n      <td>돌이킬 수 없는 약속 :야쿠마루 가쿠 장편소설</td>\n      <td>저자: 야쿠마루 가쿠 ;옮긴이: 김성미</td>\n      <td>Book plaza(북플라자)</td>\n      <td>2017</td>\n      <td>NaN</td>\n    </tr>\n    <tr>\n      <th>...</th>\n      <td>...</td>\n      <td>...</td>\n      <td>...</td>\n      <td>...</td>\n      <td>...</td>\n      <td>...</td>\n      <td>...</td>\n      <td>...</td>\n    </tr>\n    <tr>\n      <th>3993</th>\n      <td>9788998075668</td>\n      <td>13510</td>\n      <td>517.520</td>\n      <td>케토 다이어트 :지방을 태우는 식사법</td>\n      <td>리앤 보겔 지음 ;이문영 옮김</td>\n      <td>라이팅하우스</td>\n      <td>2019</td>\n      <td>NaN</td>\n    </tr>\n    <tr>\n      <th>3995</th>\n      <td>9791155360743</td>\n      <td>13590</td>\n      <td>595.400</td>\n      <td>라이프 인테리어 교과서</td>\n      <td>지은이: 주부의벗사 편집부 ;옮긴이: 박승희</td>\n      <td>즐거운상상</td>\n      <td>2018</td>\n      <td>NaN</td>\n    </tr>\n    <tr>\n      <th>3996</th>\n      <td>9791155361238</td>\n      <td>13590</td>\n      <td>325.211</td>\n      <td>나는 오늘 책상을 정리하기로 했다 :일이 편해지고 시간도 버는 88가지 정리 아이디어</td>\n      <td>지은이: Emi ;옮긴이: 남궁가윤</td>\n      <td>즐거운상상</td>\n      <td>2018</td>\n      <td>NaN</td>\n    </tr>\n    <tr>\n      <th>3998</th>\n      <td>9791155811344</td>\n      <td>13590</td>\n      <td>590.400</td>\n      <td>와비사비 라이프 :없는 대로 잘 살아갑니다</td>\n      <td>줄리 포인터 애덤스 지음 ;박여진 옮김</td>\n      <td>윌북</td>\n      <td>2017</td>\n      <td>NaN</td>\n    </tr>\n    <tr>\n      <th>3999</th>\n      <td>9791160504255</td>\n      <td>13320</td>\n      <td>327.870</td>\n      <td>부자가 되려면 부자를 만나라 =진짜 부자들이 알려주지 않는 투자의 비법 /If yo...</td>\n      <td>고준석 지음</td>\n      <td>길벗</td>\n      <td>2018</td>\n      <td>NaN</td>\n    </tr>\n  </tbody>\n</table>\n<p>1699 rows × 8 columns</p>\n</div>"
     },
     "metadata": {},
     "execution_count": 262
    }
   ],
   "source": [
    "books = books.drop_duplicates(['ISBN'])"
   ]
  },
  {
   "cell_type": "code",
   "execution_count": 263,
   "metadata": {},
   "outputs": [
    {
     "output_type": "execute_result",
     "data": {
      "text/plain": "      index           ISBN  ISBN부가기호      KDC  \\\n0         0  9788995151204      3810  813.600   \n1         1  9788932471631      3470  491.510   \n2         2  9791160560510      3400  404.000   \n3         3  9788972756194      3830  833.600   \n4         4  9788998274795      3830  833.600   \n...     ...            ...       ...      ...   \n1694   3993  9788998075668     13510  517.520   \n1695   3995  9791155360743     13590  595.400   \n1696   3996  9791155361238     13590  325.211   \n1697   3998  9791155811344     13590  590.400   \n1698   3999  9791160504255     13320  327.870   \n\n                                                     서명  \\\n0                                난장이가 쏘아올린 작은 공:조세희 소설집   \n1                               이기적 유전자 :진화론의 새로운 패러다임    \n2                                               열두 발자국    \n3                           나미야 잡화점의 기적 :히가시노 게이고 장편소설    \n4                            돌이킬 수 없는 약속 :야쿠마루 가쿠 장편소설    \n...                                                 ...   \n1694                              케토 다이어트 :지방을 태우는 식사법    \n1695                                      라이프 인테리어 교과서    \n1696   나는 오늘 책상을 정리하기로 했다 :일이 편해지고 시간도 버는 88가지 정리 아이디어    \n1697                           와비사비 라이프 :없는 대로 잘 살아갑니다    \n1698  부자가 되려면 부자를 만나라 =진짜 부자들이 알려주지 않는 투자의 비법 /If yo...   \n\n                            저자               출판사  출판년도   권  \n0                          조세희             이성과 힘  2000 NaN  \n1           리처드 도킨스 지음 ;이상임 옮김             을유문화사  2010 NaN  \n2                     지은이: 정재승              어크로스  2018 NaN  \n3      지은이: 히가시노 게이고 ;옮긴이: 양윤옥              현대문학  2012 NaN  \n4        저자: 야쿠마루 가쿠 ;옮긴이: 김성미  Book plaza(북플라자)  2017 NaN  \n...                        ...               ...   ...  ..  \n1694          리앤 보겔 지음 ;이문영 옮김            라이팅하우스  2019 NaN  \n1695  지은이: 주부의벗사 편집부 ;옮긴이: 박승희             즐거운상상  2018 NaN  \n1696       지은이: Emi ;옮긴이: 남궁가윤             즐거운상상  2018 NaN  \n1697     줄리 포인터 애덤스 지음 ;박여진 옮김                윌북  2017 NaN  \n1698                    고준석 지음                길벗  2018 NaN  \n\n[1699 rows x 9 columns]",
      "text/html": "<div>\n<style scoped>\n    .dataframe tbody tr th:only-of-type {\n        vertical-align: middle;\n    }\n\n    .dataframe tbody tr th {\n        vertical-align: top;\n    }\n\n    .dataframe thead th {\n        text-align: right;\n    }\n</style>\n<table border=\"1\" class=\"dataframe\">\n  <thead>\n    <tr style=\"text-align: right;\">\n      <th></th>\n      <th>index</th>\n      <th>ISBN</th>\n      <th>ISBN부가기호</th>\n      <th>KDC</th>\n      <th>서명</th>\n      <th>저자</th>\n      <th>출판사</th>\n      <th>출판년도</th>\n      <th>권</th>\n    </tr>\n  </thead>\n  <tbody>\n    <tr>\n      <th>0</th>\n      <td>0</td>\n      <td>9788995151204</td>\n      <td>3810</td>\n      <td>813.600</td>\n      <td>난장이가 쏘아올린 작은 공:조세희 소설집</td>\n      <td>조세희</td>\n      <td>이성과 힘</td>\n      <td>2000</td>\n      <td>NaN</td>\n    </tr>\n    <tr>\n      <th>1</th>\n      <td>1</td>\n      <td>9788932471631</td>\n      <td>3470</td>\n      <td>491.510</td>\n      <td>이기적 유전자 :진화론의 새로운 패러다임</td>\n      <td>리처드 도킨스 지음 ;이상임 옮김</td>\n      <td>을유문화사</td>\n      <td>2010</td>\n      <td>NaN</td>\n    </tr>\n    <tr>\n      <th>2</th>\n      <td>2</td>\n      <td>9791160560510</td>\n      <td>3400</td>\n      <td>404.000</td>\n      <td>열두 발자국</td>\n      <td>지은이: 정재승</td>\n      <td>어크로스</td>\n      <td>2018</td>\n      <td>NaN</td>\n    </tr>\n    <tr>\n      <th>3</th>\n      <td>3</td>\n      <td>9788972756194</td>\n      <td>3830</td>\n      <td>833.600</td>\n      <td>나미야 잡화점의 기적 :히가시노 게이고 장편소설</td>\n      <td>지은이: 히가시노 게이고 ;옮긴이: 양윤옥</td>\n      <td>현대문학</td>\n      <td>2012</td>\n      <td>NaN</td>\n    </tr>\n    <tr>\n      <th>4</th>\n      <td>4</td>\n      <td>9788998274795</td>\n      <td>3830</td>\n      <td>833.600</td>\n      <td>돌이킬 수 없는 약속 :야쿠마루 가쿠 장편소설</td>\n      <td>저자: 야쿠마루 가쿠 ;옮긴이: 김성미</td>\n      <td>Book plaza(북플라자)</td>\n      <td>2017</td>\n      <td>NaN</td>\n    </tr>\n    <tr>\n      <th>...</th>\n      <td>...</td>\n      <td>...</td>\n      <td>...</td>\n      <td>...</td>\n      <td>...</td>\n      <td>...</td>\n      <td>...</td>\n      <td>...</td>\n      <td>...</td>\n    </tr>\n    <tr>\n      <th>1694</th>\n      <td>3993</td>\n      <td>9788998075668</td>\n      <td>13510</td>\n      <td>517.520</td>\n      <td>케토 다이어트 :지방을 태우는 식사법</td>\n      <td>리앤 보겔 지음 ;이문영 옮김</td>\n      <td>라이팅하우스</td>\n      <td>2019</td>\n      <td>NaN</td>\n    </tr>\n    <tr>\n      <th>1695</th>\n      <td>3995</td>\n      <td>9791155360743</td>\n      <td>13590</td>\n      <td>595.400</td>\n      <td>라이프 인테리어 교과서</td>\n      <td>지은이: 주부의벗사 편집부 ;옮긴이: 박승희</td>\n      <td>즐거운상상</td>\n      <td>2018</td>\n      <td>NaN</td>\n    </tr>\n    <tr>\n      <th>1696</th>\n      <td>3996</td>\n      <td>9791155361238</td>\n      <td>13590</td>\n      <td>325.211</td>\n      <td>나는 오늘 책상을 정리하기로 했다 :일이 편해지고 시간도 버는 88가지 정리 아이디어</td>\n      <td>지은이: Emi ;옮긴이: 남궁가윤</td>\n      <td>즐거운상상</td>\n      <td>2018</td>\n      <td>NaN</td>\n    </tr>\n    <tr>\n      <th>1697</th>\n      <td>3998</td>\n      <td>9791155811344</td>\n      <td>13590</td>\n      <td>590.400</td>\n      <td>와비사비 라이프 :없는 대로 잘 살아갑니다</td>\n      <td>줄리 포인터 애덤스 지음 ;박여진 옮김</td>\n      <td>윌북</td>\n      <td>2017</td>\n      <td>NaN</td>\n    </tr>\n    <tr>\n      <th>1698</th>\n      <td>3999</td>\n      <td>9791160504255</td>\n      <td>13320</td>\n      <td>327.870</td>\n      <td>부자가 되려면 부자를 만나라 =진짜 부자들이 알려주지 않는 투자의 비법 /If yo...</td>\n      <td>고준석 지음</td>\n      <td>길벗</td>\n      <td>2018</td>\n      <td>NaN</td>\n    </tr>\n  </tbody>\n</table>\n<p>1699 rows × 9 columns</p>\n</div>"
     },
     "metadata": {},
     "execution_count": 263
    }
   ],
   "source": [
    "books = books.reset_index()"
   ]
  },
  {
   "cell_type": "code",
   "execution_count": 267,
   "metadata": {},
   "outputs": [],
   "source": [
    "del books['index']"
   ]
  },
  {
   "cell_type": "code",
   "execution_count": 269,
   "metadata": {},
   "outputs": [],
   "source": [
    "books.to_json(\"./books.json\", orient='records')"
   ]
  },
  {
   "cell_type": "code",
   "execution_count": 270,
   "metadata": {},
   "outputs": [],
   "source": [
    "books.to_excel('./books.xlsx')"
   ]
  },
  {
   "cell_type": "code",
   "execution_count": null,
   "metadata": {},
   "outputs": [],
   "source": []
  }
 ]
}